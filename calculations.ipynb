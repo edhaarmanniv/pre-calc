{
 "cells": [
  {
   "cell_type": "code",
   "execution_count": 1,
   "metadata": {},
   "outputs": [],
   "source": [
    "from matplotlib import pyplot as plt\n",
    "from matplotlib.ticker import MaxNLocator\n",
    "from matplotlib import rc\n",
    "import numpy as np\n",
    "from random import *"
   ]
  },
  {
   "cell_type": "code",
   "execution_count": 58,
   "metadata": {},
   "outputs": [
    {
     "name": "stdout",
     "output_type": "stream",
     "text": [
      "$y=2x^2+-5x+-5$\n"
     ]
    },
    {
     "data": {
      "image/png": "[encoded data removed]",
      "text/plain": [
       "<Figure size 720x720 with 1 Axes>"
      ]
     },
     "metadata": {
      "needs_background": "light"
     },
     "output_type": "display_data"
    }
   ],
   "source": [
    "coeffs = list(range(-5, 6, 1))\n",
    "coeffs.remove(0)\n",
    "a = choice(coeffs)\n",
    "b = randint(-5, 5)\n",
    "c = randint(-5, 5)\n",
    "x = np.linspace(-5, 5, 100)\n",
    "f = lambda x, a, b, c: a*x**2+b*x+c\n",
    "\n",
    "eq_str = fr\"$y={a}x^2+{b}x+{c}$\"\n",
    "print(eq_str)\n",
    "\n",
    "plt.rcParams[\"figure.figsize\"] = (10, 10)\n",
    "\n",
    "fig = plt.figure()\n",
    "ax = fig.add_subplot(1, 1, 1)\n",
    "axes_map = {\"left\": \"zero\",\n",
    "            \"bottom\":\"zero\",\n",
    "            \"right\":\"none\",\n",
    "            \"top\": \"none\"\n",
    "}\n",
    "\n",
    "ax.spines['left'].set_position(axes_map[\"left\"])\n",
    "ax.spines['bottom'].set_position(axes_map[\"bottom\"])\n",
    "ax.spines['right'].set_color(axes_map[\"right\"])\n",
    "ax.spines['top'].set_color(axes_map[\"top\"])\n",
    "ax.xaxis.set_ticks_position('bottom')\n",
    "ax.xaxis.set_major_locator(MaxNLocator(integer=True))\n",
    "ax.yaxis.set_ticks_position('left')\n",
    "ax.yaxis.set_major_locator(MaxNLocator(integer=True))\n",
    "xmin, xmax = (-10, 10)\n",
    "ymin, ymax = (-15, 15)\n",
    "ax.set_xlim(xmin, xmax)\n",
    "ax.set_ylim(ymin, ymax)\n",
    "\n",
    "\n",
    "plt.plot(x, f(x, a, b, c))\n",
    "plt.show()"
   ]
  },
  {
   "cell_type": "code",
   "execution_count": 63,
   "metadata": {},
   "outputs": [
    {
     "name": "stdout",
     "output_type": "stream",
     "text": [
      "1.25 -8.125\n"
     ]
    }
   ],
   "source": [
    "f = lambda x: a*x**2+b*x+c\n",
    "find_h = lambda a, b: -b/(2*a)\n",
    "find_k = lambda h: f(h)\n",
    "\n",
    "h = find_h(a, b)\n",
    "print(h, find_k(h))\n",
    "\n",
    "def generate_eq_str(coeffs):\n",
    "    return r\"$y={a}x^2+{b}x+{c}$\".format(**coeffs)\n",
    "    \n",
    "def parabola(x=np.linspace(-5, 5, 100)):\n",
    "    a = randint(-5, 5)\n",
    "    b = randint(-5, 5)\n",
    "    c = b = randint(-5, 5)\n",
    "    \n",
    "    y = a*x**2 + b*x + c\n",
    "    return (\n",
    "        {\"a\":a,\n",
    "         \"b\":b,\n",
    "         \"c\":c},\n",
    "\n",
    "        {\"x\":x,\n",
    "         \"y\":y\n",
    "        }\n",
    "    )\n"
   ]
  },
  {
   "cell_type": "code",
   "execution_count": null,
   "metadata": {},
   "outputs": [],
   "source": [
    "def create_plot_axes():\n",
    "    plt.rcParams[\"figure.figsize\"] = (10, 10)\n",
    "    # rc(\"text\", usetex=True)\n",
    "\n",
    "    fig = plt.figure()\n",
    "    ax = fig.add_subplot(1, 1, 1)\n",
    "    axes_map = {\"left\": \"zero\",\n",
    "                \"bottom\":\"zero\",\n",
    "                \"right\":\"none\",\n",
    "                \"top\": \"none\"\n",
    "    }\n",
    "\n",
    "    ax.spines['left'].set_position(axes_map[\"left\"])\n",
    "    ax.spines['bottom'].set_position(axes_map[\"bottom\"])\n",
    "    ax.spines['right'].set_color(axes_map[\"right\"])\n",
    "    ax.spines['top'].set_color(axes_map[\"top\"])\n",
    "    ax.xaxis.set_ticks_position('bottom')\n",
    "    ax.xaxis.set_major_locator(MaxNLocator(integer=True))\n",
    "    ax.yaxis.set_ticks_position('left')\n",
    "    ax.yaxis.set_major_locator(MaxNLocator(integer=True))\n",
    "    xmin, xmax = (-10, 10)\n",
    "    ymin, ymax = (xmin, xmax)\n",
    "    ax.set_xlim(xmin, xmax)\n",
    "    ax.set_ylim(ymin, ymax)"
   ]
  },
  {
   "cell_type": "code",
   "execution_count": 16,
   "metadata": {},
   "outputs": [
    {
     "data": {
      "text/plain": [
       "[-3, 2, 2]"
      ]
     },
     "execution_count": 16,
     "metadata": {},
     "output_type": "execute_result"
    }
   ],
   "source": [
    "list({\"a\":a,\n",
    "\"b\":b,\n",
    "\"c\":c}.values())"
   ]
  },
  {
   "cell_type": "code",
   "execution_count": 53,
   "metadata": {},
   "outputs": [],
   "source": [
    "f = lambda x: a*x**2+b*x+c"
   ]
  },
  {
   "cell_type": "code",
   "execution_count": 54,
   "metadata": {},
   "outputs": [
    {
     "data": {
      "text/plain": [
       "array([-2.50000000e+01, -2.40001020e+01, -2.30206101e+01, -2.20615243e+01,\n",
       "       -2.11228446e+01, -2.02045710e+01, -1.93067034e+01, -1.84292419e+01,\n",
       "       -1.75721865e+01, -1.67355372e+01, -1.59192939e+01, -1.51234568e+01,\n",
       "       -1.43480257e+01, -1.35930007e+01, -1.28583818e+01, -1.21441690e+01,\n",
       "       -1.14503622e+01, -1.07769615e+01, -1.01239669e+01, -9.49137843e+00,\n",
       "       -8.87919600e+00, -8.28741965e+00, -7.71604938e+00, -7.16508520e+00,\n",
       "       -6.63452709e+00, -6.12437506e+00, -5.63462912e+00, -5.16528926e+00,\n",
       "       -4.71635547e+00, -4.28782777e+00, -3.87970615e+00, -3.49199061e+00,\n",
       "       -3.12468115e+00, -2.77777778e+00, -2.45128048e+00, -2.14518927e+00,\n",
       "       -1.85950413e+00, -1.59422508e+00, -1.34935211e+00, -1.12488522e+00,\n",
       "       -9.20824406e-01, -7.37169677e-01, -5.73921028e-01, -4.31078461e-01,\n",
       "       -3.08641975e-01, -2.06611570e-01, -1.24987246e-01, -6.37690032e-02,\n",
       "       -2.29568411e-02, -2.55076013e-03, -2.55076013e-03, -2.29568411e-02,\n",
       "       -6.37690032e-02, -1.24987246e-01, -2.06611570e-01, -3.08641975e-01,\n",
       "       -4.31078461e-01, -5.73921028e-01, -7.37169677e-01, -9.20824406e-01,\n",
       "       -1.12488522e+00, -1.34935211e+00, -1.59422508e+00, -1.85950413e+00,\n",
       "       -2.14518927e+00, -2.45128048e+00, -2.77777778e+00, -3.12468115e+00,\n",
       "       -3.49199061e+00, -3.87970615e+00, -4.28782777e+00, -4.71635547e+00,\n",
       "       -5.16528926e+00, -5.63462912e+00, -6.12437506e+00, -6.63452709e+00,\n",
       "       -7.16508520e+00, -7.71604938e+00, -8.28741965e+00, -8.87919600e+00,\n",
       "       -9.49137843e+00, -1.01239669e+01, -1.07769615e+01, -1.14503622e+01,\n",
       "       -1.21441690e+01, -1.28583818e+01, -1.35930007e+01, -1.43480257e+01,\n",
       "       -1.51234568e+01, -1.59192939e+01, -1.67355372e+01, -1.75721865e+01,\n",
       "       -1.84292419e+01, -1.93067034e+01, -2.02045710e+01, -2.11228446e+01,\n",
       "       -2.20615243e+01, -2.30206101e+01, -2.40001020e+01, -2.50000000e+01])"
      ]
     },
     "execution_count": 54,
     "metadata": {},
     "output_type": "execute_result"
    }
   ],
   "source": [
    "f(x)"
   ]
  },
  {
   "cell_type": "code",
   "execution_count": 71,
   "metadata": {},
   "outputs": [],
   "source": [
    "def generate_coeffs():\n",
    "    coeffs = list(range(-5, 6, 1))\n",
    "    coeffs.remove(0)\n",
    "\n",
    "    a = choice(coeffs)\n",
    "    b = randint(-5, 5)\n",
    "    c = randint(-5, 5)\n",
    "    \n",
    "    if b==c and b==min(coeffs):\n",
    "        c+=1\n",
    "    if b==c and b==max(coeffs):\n",
    "        c-=1\n",
    "        \n",
    "    return {\"a\":a,\n",
    "         \"b\":b,\n",
    "         \"c\":c}"
   ]
  },
  {
   "cell_type": "code",
   "execution_count": 77,
   "metadata": {},
   "outputs": [
    {
     "data": {
      "text/plain": [
       "{'a': 5, 'b': 1, 'c': -2}"
      ]
     },
     "execution_count": 77,
     "metadata": {},
     "output_type": "execute_result"
    }
   ],
   "source": [
    "coeffs = generate_coeffs()\n",
    "coeffs"
   ]
  },
  {
   "cell_type": "code",
   "execution_count": 67,
   "metadata": {},
   "outputs": [
    {
     "data": {
      "text/plain": [
       "{'a': -4, 'b': 1, 'c': -3}"
      ]
     },
     "execution_count": 67,
     "metadata": {},
     "output_type": "execute_result"
    }
   ],
   "source": []
  },
  {
   "cell_type": "code",
   "execution_count": null,
   "metadata": {},
   "outputs": [],
   "source": []
  }
 ],
 "metadata": {
  "kernelspec": {
   "display_name": "pre-calc",
   "language": "python",
   "name": "pre-calc"
  },
  "language_info": {
   "codemirror_mode": {
    "name": "ipython",
    "version": 3
   },
   "file_extension": ".py",
   "mimetype": "text/x-python",
   "name": "python",
   "nbconvert_exporter": "python",
   "pygments_lexer": "ipython3",
   "version": "3.7.5"
  }
 },
 "nbformat": 4,
 "nbformat_minor": 4
}
